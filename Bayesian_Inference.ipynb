{
 "cells": [
  {
   "cell_type": "code",
   "execution_count": 1,
   "metadata": {},
   "outputs": [],
   "source": [
    "%matplotlib inline\n",
    "import matplotlib\n",
    "import seaborn as sns\n",
    "sns.set()\n",
    "matplotlib.rcParams['figure.dpi'] = 144"
   ]
  },
  {
   "cell_type": "code",
   "execution_count": 2,
   "metadata": {},
   "outputs": [],
   "source": [
    "import numpy as np\n",
    "import math\n",
    "from ipywidgets import interactive\n",
    "from matplotlib import pylab as plt\n",
    "import matplotlib.ticker as mtick\n",
    "from scipy.stats import beta, norm, binom, binom_test"
   ]
  },
  {
   "cell_type": "markdown",
   "metadata": {},
   "source": [
    "# Bayesian inference"
   ]
  },
  {
   "cell_type": "markdown",
   "metadata": {},
   "source": [
    "Bayesian inference is a method in **inferential statistics**. It is a powerful statistical paradigm that has gained popularity in many fields of science. It is a method of statistical inference based on the ideas of Thomas Bayes, who was a nonconformist English Presbyterian minister in the 18th century.\n",
    "\n",
    "Consider the scenario where you found a coin on the side of a street and you wonder if this is a fair coin. So you flip it $n$ times and obtain your data. Now the parameter you want to infer/estimate is the probablity of getting a head on a given flip with this coin.\n",
    "\n",
    "Frequentist inference would give us a point estimate of the parameter of interest and some confidence intervals. On the other hand in Bayesian inference we attach probabilities to hypotheses or to any fixed but unknown values in general. So from **Bayesian inference** instead of a point estimate of our parameter of interest, we will get a whole distribution for our parameter. \n",
    "\n",
    "$$ \\begin{align}\n",
    "\\text{prior distribution and collected data   ---- >  posterior distribution}\n",
    "\\end{align} $$\n",
    "\n",
    "We get this distribution for our parameter of interest by first defining a probability distribution over the possible parameter values. This is called a **prior distribution** and it may incorporate our prior knowledge or beliefs about the parameter values. And then we use our sample data to update this distribution and get what is called a **posterior distibution**. And we do the updating process by applying **Bayes’ theorem**."
   ]
  },
  {
   "cell_type": "markdown",
   "metadata": {},
   "source": [
    "## Bayes' theorem"
   ]
  },
  {
   "cell_type": "markdown",
   "metadata": {},
   "source": [
    "Bayes' theorem describes the probability of an event, based on prior knowledge of conditions that might be related to the event.\n",
    "\n",
    "$$ \\begin{align}\n",
    "P(A\\mid B) & = \\frac{ P( B\\mid A) P(A)}{ P(B) } \\\\\n",
    "\\end{align}$$"
   ]
  },
  {
   "cell_type": "markdown",
   "metadata": {},
   "source": [
    "In Bayesian inference this theorem is used for updating prior probabilities into posterior probabilities after considering some piece of new information, new data, new evidence. The exact way the updating process takes place is given by the relationship asserted by the theorem. Namely, the posterior probability is obtained after multiplying the prior probability (what we think about a paramater value before we have seen any data) by the likelihood (i.e. how we think our data is distributed) and then dividing by the evidence.\n",
    "\n",
    "$$ \\begin{align}\n",
    "P(\\theta \\mid X_1, \\ldots, X_p) & = \\frac{ P( X_1, \\ldots, X_p \\mid \\theta) P(\\theta)}{ P( X_1, \\ldots, X_p) } \\\\\n",
    "& = \\frac{ P( X_1, \\ldots, X_p \\mid \\theta) P(\\theta)}{ \\int_{\\theta} P( X_1, \\ldots, X_p \\mid \\theta)  P(\\theta) {\\rm{d}}\\theta } \\\\\n",
    "& \\propto P( X_1, \\ldots, X_p \\mid \\theta) P(\\theta) \\\\\n",
    "\\end{align}$$\n",
    "\n",
    "Where:\n",
    "$$ \\begin{align}\n",
    "P(\\theta \\mid X_1, \\ldots, X_p) & \\ldots {\\text{Posterior distribution}}\\\\\n",
    "P(\\theta) & \\ldots {\\text{Prior distribution}}\\\\\n",
    "P( X_1, \\ldots, X_p \\mid \\theta) & \\ldots {\\text{Likelihood}}\\\\\n",
    "P( X_1, \\ldots, X_p) & \\ldots {\\text{Evidence or Marginal Likelihood}}\\\\\n",
    "\\end{align}$$"
   ]
  },
  {
   "cell_type": "markdown",
   "metadata": {},
   "source": [
    "As we can see Bayesian inference incorporates both our prior belief or knowledge (through the prior distribution) and the information from the gathered data (through the likelihood function). And the more new data we gather, the less relevant the prior becomes."
   ]
  },
  {
   "cell_type": "markdown",
   "metadata": {},
   "source": [
    "## Example 1: conjugate priors"
   ]
  },
  {
   "cell_type": "markdown",
   "metadata": {},
   "source": [
    "The formula for Bayes' inference might look innocent enough, but for even slightly non-trivial models you just can't compute the posterior in a closed-form way, so we can imagine that only the simplest posteriors allow for an analytic solution. The cases where we can obtain the posterior analitically are cases where we can incorporate our prior beliefs in a prior distribution that is **conjugate** to the likelihood. \n",
    "\n",
    "Let's go back to our coin flip example - using Bayesian inference we would like to estimate the probablity $\\theta$ of getting a head. To do any Bayesian inference, we follow a 4 step process:\n",
    "\n",
    "**1) Identify the observed data you are working with:**<br>\n",
    "We have a coin flip that gives us one of two possible outcomes: heads or tails. We flip the coin $n$ times and count the number of times we get a head, denote that by $y$.\n",
    "\n",
    "**2) Construct a probabilistic model to represent the data (likelihood):**<br>\n",
    "We are looking for the likelihood function, $P(y\\mid \\theta)$. The probablity we got $y$ heads given probability of landing on heads is $\\theta$ is given by the binomial distribution: \n",
    "$$P(y\\mid \\theta) = \\frac{n!}{(n - y)! y!}\\theta^{y}(1 -\\theta)^{n-y}.$$\n",
    "\n",
    "**3) Specify prior distributions over the parameters of your probabilistic model (prior):** <br>\n",
    "Say we believe that the coin being “fair” $\\theta=0.5$ is more likely than a coin being unfair. To express our prior belief we will use a beta distribution, which is conjugate to the binomial likelihood. Depending on how we choose the hyperparameters of beta distribution, we can quantify any prior confidence we have about the value of $\\theta$. For example letting a = b = 1 results in a flat prior distribution over $\\theta$. Note that the beta distribution provides a very flexible way for us to quantify any prior knowledge we might have, or we can adopt a flat prior.\n",
    "$$P(\\theta) = B(\\theta; a,b) = \\frac{\\Gamma(a+b)}{\\Gamma(a)\\Gamma(b)}\\theta^{a-1}(1-\\theta)^{b-1}$$\n",
    "We will choose $B(\\theta; 5,5)$ which peaks at $\\theta = 0.5$.\n",
    "\n",
    "**4) Bayes' rule, put the prior and likelihood together to obtain posterior:** <br>\n",
    "\n",
    "$$\\begin{align}\n",
    "P(\\theta\\mid y) & \\propto P(y\\mid \\theta) P(\\theta)\\\\\n",
    "& \\propto \\theta^{y}(1 - \\theta)^{n - y}\\theta^{a-1}(1 - \\theta)^{b - 1}\\\\\n",
    "& \\propto \\theta^{a+y-1}(1 - \\theta)^{b+n-y-1}\n",
    "\\end{align}$$\n",
    "\n",
    "Note that this form of the posterior distribution has the same basic form as a beta distribution so :\n",
    "$$P(\\theta\\mid y) = B(\\theta; a+y, b+n-y)$$"
   ]
  },
  {
   "cell_type": "code",
   "execution_count": 3,
   "metadata": {},
   "outputs": [
    {
     "data": {
      "application/vnd.jupyter.widget-view+json": {
       "model_id": "72b2bf43923f459881d2f374385341b8",
       "version_major": 2,
       "version_minor": 0
      },
      "text/plain": [
       "interactive(children=(IntSlider(value=5, description='a', max=10, min=1), IntSlider(value=5, description='b', …"
      ]
     },
     "metadata": {},
     "output_type": "display_data"
    }
   ],
   "source": [
    "n = 50  # number of coin flips\n",
    "pr = 0.1 # probability of getting heads for our coin\n",
    "y = int(pr*n)   # number of heads\n",
    "a = 5   # parameter of the prior\n",
    "b = 5   # parameter of the prior\n",
    "theta = np.linspace(0, 1, 1001)\n",
    "\n",
    "def plot_prior_likelihood_posterior(a = 5, b = 5, n = 50):\n",
    "    '''Plotting beta prior, binomial likelihood and beta posterior. \n",
    "        a ... beta distribution parameter a (parameter of the prior)\n",
    "        b ... beta distribution parameter b (parameter of the prior)\n",
    "        n ... size of our sample\n",
    "    '''\n",
    "        \n",
    "    fig = plt.figure(figsize=(10,8))\n",
    "    ## plot Prior distribution\n",
    "    plt.plot(theta, beta(a, b).pdf(theta), c = 'black', linewidth=3, label = 'Prior')\n",
    "    \n",
    "    ## plot Likelihood\n",
    "    likelihood = theta**(int(pr*n)) * (1-theta)**(n-int(pr*n))\n",
    "    norm = np.trapz(likelihood, dx=0.001)\n",
    "    plt.plot(theta, likelihood/norm, c = 'red', linewidth=3, label = 'Likelihood')\n",
    "    \n",
    "    ## plot Posterior distribution\n",
    "    plt.plot(theta, beta(a + int(pr*n), b + n - int(pr*n)).pdf(theta), \n",
    "             c = 'black', dashes=[6, 6], linewidth=3, label = 'Posterior')\n",
    "        \n",
    "    plt.legend(fontsize = 20)\n",
    "    plt.xlabel(r'$\\theta$', fontsize=20)\n",
    "    plt.ylabel('PDF', fontsize=20)\n",
    "    plt.ylim([0,14])\n",
    "    plt.xticks(size=20)\n",
    "    plt.yticks(size=20)\n",
    "\n",
    "interactive_plot = interactive(plot_prior_likelihood_posterior, a = (1, 10, 1), b = (1, 10, 1), n = (1, 100, 1))\n",
    "output = interactive_plot.children[-1]\n",
    "output.layout.height = '550px'\n",
    "interactive_plot"
   ]
  },
  {
   "cell_type": "markdown",
   "metadata": {},
   "source": [
    "**Summary**: A conjugate prior combines naturally with the likelihood and results in a posterior distribution of the same functional form as the prior. Therefore, the posterior will have a simple closed form with parameters that are easily calculated from the data.<br>\n",
    "For further examples of conjucate priors (e.g. conjugate distribution to an exponential likelihood is the gamma distribution), check these [other examples of conjucate priors.](https://www.johndcook.com/blog/conjugate_prior_diagram/)<br>\n",
    "Most often however, we can not get the posterior in a closed form and we must obtain it numerically. Thus we must rely on numerical sampling methods to sample the posterior. Let's look at that next.\n"
   ]
  },
  {
   "cell_type": "markdown",
   "metadata": {},
   "source": [
    "## Example 2: posterior sampling"
   ]
  },
  {
   "cell_type": "markdown",
   "metadata": {},
   "source": [
    "Because in most problems, posterior distribution is not available in closed\n",
    "form, we instead take a sampling approach. This means we construct an algorithm for simulating a long chain of draws from the posterior distribution.\n",
    "\n",
    "Most common are Markov chain Monte Carlo (**MCMC**) Algorithms. Examples include Gibbs sampling, Hamiltonian Monte Carlo, Metropolis Algorithm, etc. We will demonstrate the **Metropolis algorithm**. \n",
    "\n",
    "Let $f(\\theta)$ be our likelihood x prior, so $P(y\\mid \\theta) P(\\theta)$. Now choose an arbitrary point $\\theta$ to be the first sample, and choose an arbitrary probability density $g(\\theta'\\mid \\theta)$ that suggests a candidate next sample $\\theta'$, given the current sample value $\\theta$. For the Metropolis algorithm, this distribution must be symmetric, a usual choice is a Gaussian distribution centered at current sample value of $\\theta$. The function $g$ is referred to as the proposal density or jumping distribution.\n",
    "\n",
    "Then for each iteration: <br>\n",
    "   - *Generate* : Generate a candidate $\\theta'$ for the next sample by picking from the distribution $g(\\theta'\\mid \\theta)$ <br>\n",
    "   - *Calculate* : Calculate the acceptance ratio $\\alpha = f (\\theta') / f (\\theta)$, which will be used to decide whether to accept or reject the candidate $\\theta'$. <br>\n",
    "   - *Accept or Reject*:<br>\n",
    "        Generate a uniform random number $u$ on [0,1]: <br>\n",
    "        If $u \\leq \\alpha$ accept the candidate, set $\\theta \\leftarrow \\theta'$ <br>\n",
    "        If $u \\gt \\alpha$ reject the candidate, keep the current $\\theta$ and try again.\n",
    "        \n",
    "A possibly useful [animated plot](https://www.youtube.com/watch?v=OTO1DygELpY&t=423s) from YouTube (animation of interest to us in the video begins at 3:26)."
   ]
  },
  {
   "cell_type": "code",
   "execution_count": 4,
   "metadata": {},
   "outputs": [],
   "source": [
    "def coin_toss_metropolis_sampler(a, b, n, y, samples=500, theta_current=0.5, proposal_width=.5):\n",
    "    '''Computes the posterior distribution of the probability of heads for a coin toss problem \n",
    "    using metropolis alorithm.\n",
    "        a................ beta distribution parameter a (parameter of the prior)\n",
    "        b................ beta distribution parameter b (parameter of the prior)\n",
    "        n................ sample size = number of coin tosses\n",
    "        y................ number of obtained heads\n",
    "        samples.......... number of samples to draw from posterior distribution\n",
    "        theta_current.... starting value of probability of heads\n",
    "        proposal_width... standard deviation of the gaussian jumping distribution        \n",
    "    '''\n",
    "\n",
    "    posterior = [theta_current]\n",
    "\n",
    "    for i in range(samples):    \n",
    "        theta_proposal = norm(theta_current, proposal_width).rvs()\n",
    "\n",
    "        # Compute likelihood of current and proposed theta        \n",
    "        likelihood_current = theta_current**(y) * (1-theta_current)**(n-y)\n",
    "        likelihood_proposal = theta_proposal**(y) * (1-theta_proposal)**(n-y)\n",
    "\n",
    "        # Compute prior probability of current and proposed theta        \n",
    "        prior_current = beta(a, b).pdf(theta_current)\n",
    "        prior_proposal = beta(a, b).pdf(theta_proposal)\n",
    "\n",
    "        # Numerator of Bayes formula\n",
    "        p_current = likelihood_current * prior_current\n",
    "        p_proposal = likelihood_proposal * prior_proposal\n",
    "\n",
    "        alpha = p_proposal / p_current\n",
    "\n",
    "        if np.random.rand() <  alpha:\n",
    "            # Update position\n",
    "            theta_current = theta_proposal\n",
    "\n",
    "        # Add current theta to posterior (regardless of acceptance of proposal)\n",
    "        posterior.append(theta_current)\n",
    "\n",
    "    return posterior"
   ]
  },
  {
   "cell_type": "code",
   "execution_count": 5,
   "metadata": {},
   "outputs": [],
   "source": [
    "#### this cell takes a minute ####\n",
    "\n",
    "a = 5\n",
    "b = 5\n",
    "n = 50\n",
    "y = 5\n",
    "posterior = coin_toss_metropolis_sampler(a, b, n, y, samples = 10000)"
   ]
  },
  {
   "cell_type": "code",
   "execution_count": 6,
   "metadata": {},
   "outputs": [
    {
     "data": {
      "image/png": "[encoded data removed]",
      "text/plain": [
       "<Figure size 720x576 with 1 Axes>"
      ]
     },
     "metadata": {},
     "output_type": "display_data"
    }
   ],
   "source": [
    "fig = plt.figure(figsize=(10,8))\n",
    "plt.hist(posterior[500:], 30, density = 1, edgecolor='black', color = 'r', linewidth=1, label='estimated posterior', \n",
    "         alpha = 0.5)\n",
    "plt.plot(theta, beta(a + int(pr*n), b + n - int(pr*n)).pdf(theta), color = 'k', label='analytic posterior')\n",
    "plt.legend(fontsize = 20)\n",
    "plt.xlabel(r'$\\theta$', fontsize=20)\n",
    "plt.ylabel('PDF', fontsize=20)\n",
    "xticks = plt.xticks(size=20)\n",
    "yticks = plt.yticks(size=20)"
   ]
  },
  {
   "cell_type": "markdown",
   "metadata": {},
   "source": [
    "**Note on proposal width**: In general you don't want the width of the jumping distribution $g$ to be too narrow because your sampling will be inefficient as it takes a long time to explore the whole parameter space. But you also don't want it to be so large that you never accept a jump. Note, however, that we are still sampling from our target posterior distribution even with suboptimal proposal width, just less efficiently.\n",
    "\n",
    "Another point, the key is that we want our samples to be independent of each other which cleary isn't the case here. Thus, one common metric to evaluate the efficiency of our sampler is the autocorrelation -- i.e. how correlated a sample $i$ is to sample $i-1$, $i-2$, etc. With just right width of jumping distribution, the autocorrelation can fall off rapidly. We preferably want to have a way of figuring out the right step width automatically. One common method is to keep adjusting the proposal width so that roughly 50% proposals are rejected."
   ]
  },
  {
   "cell_type": "markdown",
   "metadata": {},
   "source": [
    "## PyMC3 module\n",
    "You can easily imagine that we can extend this to more complex models, estimate multiple parameters, etc. A useful library for Bayesian inference in Python is [PyMC3.](https://docs.pymc.io/)"
   ]
  },
  {
   "cell_type": "code",
   "execution_count": 8,
   "metadata": {},
   "outputs": [
    {
     "name": "stderr",
     "output_type": "stream",
     "text": [
      "Multiprocess sampling (4 chains in 4 jobs)\n",
      "Metropolis: [th_logodds__]\n",
      "100%|██████████| 20500/20500 [00:03<00:00, 6369.90it/s]\n",
      "The number of effective samples is smaller than 25% for some parameters.\n"
     ]
    },
    {
     "data": {
      "image/png": "[encoded data removed]",
      "text/plain": [
       "<Figure size 720x576 with 1 Axes>"
      ]
     },
     "metadata": {},
     "output_type": "display_data"
    }
   ],
   "source": [
    "import pymc3 as pm\n",
    "\n",
    "obs = [0]*(n-y) + [1]*y\n",
    "\n",
    "with pm.Model():\n",
    "    th = pm.Beta('th', a, b)\n",
    "    returns = pm.Bernoulli('returns', th, observed = obs)\n",
    "    \n",
    "    step = pm.Metropolis()\n",
    "    trace = pm.sample(20000, step)\n",
    "    \n",
    "\n",
    "fig = plt.figure(figsize=(10,8))\n",
    "sns.kdeplot(trace[2000:]['th'], color = 'blue', shade=True, linewidth=2, label='PyMC3 sampler');\n",
    "sns.kdeplot(posterior[500:], color = 'red', shade=True, linewidth=2, label='Hand-written sampler');\n",
    "plt.plot(theta, beta(a + y, b + n - y).pdf(theta), c = 'black', linewidth=2, label='Analytic posterior')\n",
    "plt.legend(fontsize = 20)\n",
    "plt.xlabel(r'$\\theta$', fontsize=20)\n",
    "plt.ylabel('PDF', fontsize=20)\n",
    "xticks = plt.xticks(size=20)\n",
    "yticks = plt.yticks(size=20)"
   ]
  },
  {
   "cell_type": "markdown",
   "metadata": {},
   "source": [
    "# Bayesian Inference and Hypothesis Testing"
   ]
  },
  {
   "cell_type": "markdown",
   "metadata": {},
   "source": [
    "The use of Bayes factors is a Bayesian alternative to classical hypothesis testing. Using Bayesian inference we can obtain the posterior probability for a hypothesis (model):\n",
    "\n",
    "$$\\begin{align}\n",
    "P(H_0\\mid y) & = \\frac{ P( y\\mid H_0) P(H_0)}{ P(y) } \\\\\n",
    "& = \\frac{ P( y\\mid H_0) P(H_0)}{ \\sum_{k=1}P(y\\mid H_k) P(H_k) } \\\\\n",
    "& \\propto P( y\\mid H_0) P(H_0)\n",
    "\\end{align}\n",
    "$$\n",
    "\n",
    "where $P(y\\mid H_0)$ is the likelihood under $H_0$ and $P(H_0)$ is the prior hypothesis probability.\n",
    "\n",
    "Then comparing posteriors for two hypothesis yields:\n",
    "\n",
    "$$\n",
    "\\underbrace{\\frac{P(H_0\\mid y)}{P(H_1\\mid y)}}_\\text{posterior odds} = \\underbrace{ \\frac{P(y\\mid H_0)}{P(y\\mid H_1)}}_{\\text{Bayes factor } B_{01}}  \\times \\underbrace{ \\frac{P(H_0)}{P(H_1)}}_\\text{prior odds} \n",
    "$$\n",
    "\n",
    "The **Bayes factor $B_{01}$** is a ratio of the likelihood probability of two competing hypotheses\n",
    "\n",
    "$$\\begin{align}\n",
    "B_{01} &= \\frac{P(y\\mid H_0)}{P(y\\mid H_1)} = \\frac{\\int P(y\\mid \\theta) P(\\theta \\mid H_0) {\\rm{d}}\\theta}{\\int P(y\\mid \\theta) P(\\theta \\mid H_1) {\\rm{d}}\\theta}\n",
    "\\end{align}\n",
    "$$\n",
    "\n",
    "and is often thought of as the odds of $H_0$ to $H_1$ provided by the data. A value of $B_{01}$ > 1 means that $H_0$ is more strongly supported by the data under consideration than $H_1$."
   ]
  },
  {
   "cell_type": "markdown",
   "metadata": {},
   "source": [
    "## Unfair coin example \n",
    "\n",
    "Let's return to our example where we flipped the coin $n$ times and got $y$ heads. We will perform hypothesis testing using Bayesian approach and frequentist hypothesis testing.\n",
    "\n",
    "**1) Bayesian approach**: \n",
    "\n",
    "We established that the likelihood in the case of a coin toss is a binomial distribution:\n",
    "\n",
    "$$P(y\\mid \\theta) = \\frac{n!}{(n - y)! y!}\\theta^{y}(1 -\\theta)^{n-y}.$$\n",
    "\n",
    "Null hypothesis $H_0$ is that the coin is fair, thus $\\theta = 0.5$ and $P(\\theta\\mid H_0)$ is a  Dirac delta function at $\\theta = 0.5$. Thus\n",
    "\n",
    "$$\\begin{align}\n",
    "P(y\\mid H_0) &= \\int P(y\\mid \\theta) P(\\theta \\mid H_0) {\\rm{d}}\\theta = P(y\\mid \\theta = 0.5)\\\\\n",
    "& = \\frac{n!}{(n-y)! y!}0.5^{y}0.5^{n-y}\n",
    "\\end{align}\n",
    "$$\n",
    "\n",
    "Alternative hypothesis $H_1$ is that the coin is unfair, so we can for example take the $P(\\theta\\mid H_1)$ distribution for $\\theta$ that is uniform on [0,1]. In this case\n",
    "\n",
    "$$\\begin{align}\n",
    "P(y\\mid H_1) &= \\int_0^1 \\frac{n!}{(n-y)!y!}\\theta^{y}(1-\\theta)^{n-y} {\\rm{d}}\\theta \\\\\n",
    "& = \\frac{n!}{(n-y)!y!}\\frac{y! (n-y)!}{(n+1)!} = \\frac{1}{n+1}\n",
    "\\end{align}\n",
    "$$\n",
    "\n",
    "Now we can compute the Bayes factor\n",
    "\n",
    "$$\\begin{align}\n",
    "B_{01} &= \\frac{P(y\\mid H_0)}{P(y\\mid H_1)}\n",
    "\\end{align}\n",
    "$$\n"
   ]
  },
  {
   "cell_type": "code",
   "execution_count": 9,
   "metadata": {},
   "outputs": [
    {
     "name": "stdout",
     "output_type": "stream",
     "text": [
      "Given our example n and y, we obtain B_01 = 9.597368233471244e-08\n"
     ]
    }
   ],
   "source": [
    "coin_p = 0.5\n",
    "bayes_factor = binom.pmf(y, n, coin_p) * (n + 1)\n",
    "print ('Given our example n and y, we obtain B_01 = {}'.format(bayes_factor))"
   ]
  },
  {
   "cell_type": "code",
   "execution_count": 10,
   "metadata": {},
   "outputs": [
    {
     "data": {
      "text/plain": [
       "True"
      ]
     },
     "execution_count": 10,
     "metadata": {},
     "output_type": "execute_result"
    }
   ],
   "source": [
    "bayes_factor < 1"
   ]
  },
  {
   "cell_type": "markdown",
   "metadata": {},
   "source": [
    "This suggests an unfair coin and that we shoud reject the null hypothesis. But keep in mind the assumptions we made about priors.\n",
    "\n",
    "*Note:* we could potentially also answer the question 'what is the probability that this coin is fair?' by taking the posterior distribution $P(\\theta\\mid y)$ and computing the area under the curve for 0.45 < $\\theta$ < 0.55 (if a fair coin is defined as one whose probability of coming down heads is somewhere between 45% and 55%).\n",
    "\n",
    "**2) Frequentist hypothesis testing:** \n",
    "\n",
    "- Null hypothesis: $\\theta = 0.5$, Alternative hypothesis: $\\theta \\neq 0.5$\n",
    "- Choose siginificance level: $\\alpha = 0.05$\n",
    "- Formulate assumptions about the distribution of the statistic involved in the test: binomial distribution with $p = 0.5$\n",
    "- Compute $p$-value:"
   ]
  },
  {
   "cell_type": "code",
   "execution_count": 11,
   "metadata": {},
   "outputs": [
    {
     "name": "stdout",
     "output_type": "stream",
     "text": [
      "p_value = 4.209852022540875e-09\n"
     ]
    }
   ],
   "source": [
    "n = 50\n",
    "y = 5\n",
    "alpha = 0.05\n",
    "coin_p = 0.5\n",
    "p_value = binom_test(y, n, p = coin_p)\n",
    "print ('p_value = {}'.format(p_value))"
   ]
  },
  {
   "cell_type": "code",
   "execution_count": 12,
   "metadata": {},
   "outputs": [
    {
     "data": {
      "text/plain": [
       "True"
      ]
     },
     "execution_count": 12,
     "metadata": {},
     "output_type": "execute_result"
    }
   ],
   "source": [
    "p_value < alpha"
   ]
  },
  {
   "cell_type": "markdown",
   "metadata": {},
   "source": [
    "# A note on assumptions\n",
    "\n",
    "In the example above we concluded for both approaches that we should reject the null hypothesis. That is not always the case, the frequentist approach can lead to a different conclusion than the Bayesian. Keep in mind that the Bayes factor can be extremely sensitive to prior assumptions about parameters within each hypothesis. \n",
    "\n",
    "We make several assumptions in Bayesian inference:\n",
    "- **prior distributions**: assumptions about a paramater value before we have seen any data, prior assumptions about parameters within hypotheses ... \n",
    "- **likelihood functions**: we construct a probabilistic model to get the probability of the data given parameter values. We make assumptions in order to use a particular model (binomial, poisson,...)\n"
   ]
  }
 ],
 "metadata": {
  "kernelspec": {
   "display_name": "Python 3",
   "language": "python",
   "name": "python3"
  },
  "language_info": {
   "codemirror_mode": {
    "name": "ipython",
    "version": 3
   },
   "file_extension": ".py",
   "mimetype": "text/x-python",
   "name": "python",
   "nbconvert_exporter": "python",
   "pygments_lexer": "ipython3",
   "version": "3.6.4"
  }
 },
 "nbformat": 4,
 "nbformat_minor": 2
}
